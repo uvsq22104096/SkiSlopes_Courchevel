{
 "cells": [
  {
   "cell_type": "code",
   "execution_count": 9,
   "metadata": {},
   "outputs": [],
   "source": [
    "# Importation des librairies\n",
    "import json"
   ]
  },
  {
   "cell_type": "code",
   "execution_count": 10,
   "metadata": {},
   "outputs": [],
   "source": [
    "#Le skieur entre son niveau \n",
    "niveaux = [\"débutant\",\"expérimenté\"]\n",
    "type_skieur = input(\"Quel type de skieur êtes-vous?\")\n",
    "while type_skieur not in niveaux:\n",
    "    print(\"ERREUR: êtes vous débutant ou expérimenté?\")\n",
    "    type_skieur = input(\"Quel type de skieur êtes-vous?\")\n",
    "\n",
    "if type_skieur == \"débutant\":\n",
    "    with open('debutant.json') as fic:\n",
    "        graphe = json.load(fic)\n",
    "elif type_skieur == \"experimente\":\n",
    "    with open('experimente.json') as fic:\n",
    "        graphe = json.load(fic)\n",
    "\n",
    "#depart = input(\"entrer le sommet de départ\")\n",
    "#arrivee = input(\"entrer le sommet d'arrivée\")\n"
   ]
  },
  {
   "cell_type": "code",
   "execution_count": 7,
   "metadata": {},
   "outputs": [],
   "source": [
    "def heures_en_minutes(heures):\n",
    "    minutes = heures * 60\n",
    "    return minutes"
   ]
  },
  {
   "cell_type": "code",
   "execution_count": 12,
   "metadata": {},
   "outputs": [
    {
     "ename": "TypeError",
     "evalue": "can only concatenate list (not \"int\") to list",
     "output_type": "error",
     "traceback": [
      "\u001b[0;31m---------------------------------------------------------------------------\u001b[0m",
      "\u001b[0;31mTypeError\u001b[0m                                 Traceback (most recent call last)",
      "\u001b[0;32m/tmp/ipykernel_1056/2286100586.py\u001b[0m in \u001b[0;36m<module>\u001b[0;34m\u001b[0m\n\u001b[1;32m     54\u001b[0m     \u001b[0mprint\u001b[0m\u001b[0;34m(\u001b[0m\u001b[0;34m\"Chemin impossible\"\u001b[0m\u001b[0;34m)\u001b[0m\u001b[0;34m\u001b[0m\u001b[0;34m\u001b[0m\u001b[0m\n\u001b[1;32m     55\u001b[0m     \u001b[0;32mreturn\u001b[0m \u001b[0mpath\u001b[0m\u001b[0;34m,\u001b[0m  \u001b[0mheures_en_minutes\u001b[0m\u001b[0;34m(\u001b[0m\u001b[0mshortest_distance\u001b[0m\u001b[0;34m[\u001b[0m\u001b[0mend\u001b[0m\u001b[0;34m]\u001b[0m\u001b[0;34m)\u001b[0m\u001b[0;34m\u001b[0m\u001b[0;34m\u001b[0m\u001b[0m\n\u001b[0;32m---> 56\u001b[0;31m \u001b[0mdijkstra\u001b[0m\u001b[0;34m(\u001b[0m\u001b[0mgraphe\u001b[0m\u001b[0;34m,\u001b[0m \u001b[0;34m\"Chanrossa\"\u001b[0m\u001b[0;34m,\u001b[0m \u001b[0;34m\"Saulire\"\u001b[0m \u001b[0;34m)\u001b[0m\u001b[0;34m\u001b[0m\u001b[0;34m\u001b[0m\u001b[0m\n\u001b[0m",
      "\u001b[0;32m/tmp/ipykernel_1056/2286100586.py\u001b[0m in \u001b[0;36mdijkstra\u001b[0;34m(graph, start, end)\u001b[0m\n\u001b[1;32m     27\u001b[0m             \u001b[0;32mif\u001b[0m \u001b[0mchild_node\u001b[0m \u001b[0;32mnot\u001b[0m \u001b[0;32min\u001b[0m \u001b[0mvisited\u001b[0m\u001b[0;34m:\u001b[0m\u001b[0;34m\u001b[0m\u001b[0;34m\u001b[0m\u001b[0m\n\u001b[1;32m     28\u001b[0m                 \u001b[0mweight\u001b[0m \u001b[0;34m=\u001b[0m \u001b[0mweight\u001b[0m\u001b[0;34m[\u001b[0m\u001b[0;36m1\u001b[0m\u001b[0;34m]\u001b[0m\u001b[0;34m\u001b[0m\u001b[0;34m\u001b[0m\u001b[0m\n\u001b[0;32m---> 29\u001b[0;31m                 \u001b[0;32mif\u001b[0m \u001b[0mweight\u001b[0m \u001b[0;34m+\u001b[0m \u001b[0mshortest_distance\u001b[0m\u001b[0;34m[\u001b[0m\u001b[0mcurrent_node\u001b[0m\u001b[0;34m]\u001b[0m \u001b[0;34m<\u001b[0m \u001b[0mshortest_distance\u001b[0m\u001b[0;34m[\u001b[0m\u001b[0mchild_node\u001b[0m\u001b[0;34m]\u001b[0m\u001b[0;34m:\u001b[0m\u001b[0;34m\u001b[0m\u001b[0;34m\u001b[0m\u001b[0m\n\u001b[0m\u001b[1;32m     30\u001b[0m                     \u001b[0mshortest_distance\u001b[0m\u001b[0;34m[\u001b[0m\u001b[0mchild_node\u001b[0m\u001b[0;34m]\u001b[0m \u001b[0;34m=\u001b[0m \u001b[0mweight\u001b[0m \u001b[0;34m+\u001b[0m \u001b[0mshortest_distance\u001b[0m\u001b[0;34m[\u001b[0m\u001b[0mcurrent_node\u001b[0m\u001b[0;34m]\u001b[0m\u001b[0;34m\u001b[0m\u001b[0;34m\u001b[0m\u001b[0m\n\u001b[1;32m     31\u001b[0m                     \u001b[0mpredecessor\u001b[0m\u001b[0;34m[\u001b[0m\u001b[0mchild_node\u001b[0m\u001b[0;34m]\u001b[0m \u001b[0;34m=\u001b[0m \u001b[0mcurrent_node\u001b[0m\u001b[0;34m\u001b[0m\u001b[0;34m\u001b[0m\u001b[0m\n",
      "\u001b[0;31mTypeError\u001b[0m: can only concatenate list (not \"int\") to list"
     ]
    }
   ],
   "source": [
    "def dijkstra(graph, start, end):\n",
    "    # Initialisation des variables\n",
    "    shortest_distance = {}\n",
    "    predecessor = {}\n",
    "    unseen_nodes = graph\n",
    "    path = []\n",
    "    inf = float('inf')\n",
    "    visited = set()\n",
    "\n",
    "    # Initialisation des distances à l'infini pour tous les sommets sauf le départ\n",
    "    for node in unseen_nodes:\n",
    "        shortest_distance[node] = inf\n",
    "    shortest_distance[start] = 0\n",
    "\n",
    "    # Boucle principale\n",
    "    while unseen_nodes:\n",
    "        current_node = None\n",
    "        for node in unseen_nodes:\n",
    "            if current_node is None:\n",
    "                current_node = node\n",
    "            elif shortest_distance[node] < shortest_distance[current_node]:\n",
    "                current_node = node\n",
    "\n",
    "        # Trouver le poids le plus petit parmi les voisins non visités\n",
    "        path_options = graph[current_node].items()\n",
    "        for child_node, weight in path_options:\n",
    "            if child_node not in visited:\n",
    "                weight = weight[1]\n",
    "                if weight + shortest_distance[current_node] < shortest_distance[child_node]:\n",
    "                    shortest_distance[child_node] = weight + shortest_distance[current_node]\n",
    "                    predecessor[child_node] = current_node\n",
    "\n",
    "        # Marquer le sommet courant comme visité et le retirer des sommets non visités\n",
    "        visited.add(current_node)\n",
    "        unseen_nodes.pop(current_node)\n",
    "\n",
    "        # Si on est arrivé à la fin, on construit le chemin final\n",
    "        if current_node == end:\n",
    "            path = []\n",
    "            while current_node != start:\n",
    "                try:\n",
    "                    path.insert(0, current_node)\n",
    "                    current_node = predecessor[current_node]\n",
    "                except KeyError:\n",
    "                    print(\"Chemin impossible\")\n",
    "                    break\n",
    "            path.insert(0, start)\n",
    "\n",
    "            # Renvoyer le chemin final et la distance la plus courte\n",
    "            if shortest_distance[end] != inf:\n",
    "                return path, shortest_distance[end]\n",
    "    \n",
    "    # Si on n'a pas atteint la fin, le chemin est impossible\n",
    "    print(\"Chemin impossible\")\n",
    "    return path,  heures_en_minutes(shortest_distance[end])\n",
    "dijkstra(graphe, \"Chanrossa\", \"Saulire\" )"
   ]
  }
 ],
 "metadata": {
  "kernelspec": {
   "display_name": "Python 3.9.7 ('l1-python')",
   "language": "python",
   "name": "python3"
  },
  "language_info": {
   "codemirror_mode": {
    "name": "ipython",
    "version": 3
   },
   "file_extension": ".py",
   "mimetype": "text/x-python",
   "name": "python",
   "nbconvert_exporter": "python",
   "pygments_lexer": "ipython3",
   "version": "3.9.7"
  },
  "orig_nbformat": 4,
  "vscode": {
   "interpreter": {
    "hash": "530acc480c6cf79cacfe3b795deb12112f40cf157cab9e2841c7338651ce5f02"
   }
  }
 },
 "nbformat": 4,
 "nbformat_minor": 2
}
