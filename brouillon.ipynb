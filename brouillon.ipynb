{
 "cells": [
  {
   "cell_type": "code",
   "execution_count": 3,
   "metadata": {},
   "outputs": [],
   "source": [
    "# Importation des librairies\n",
    "import json"
   ]
  },
  {
   "cell_type": "code",
   "execution_count": null,
   "metadata": {},
   "outputs": [],
   "source": [
    "#Le skieur entre son niveau \n",
    "niveaux = [\"débutant\",\"expérimenté\"]\n",
    "type_skieur = input(\"Quel type de skieur êtes-vous?\")\n",
    "while type_skieur not in niveaux:\n",
    "    print(\"ERREUR: êtes vous débutant ou expérimenté?\")\n",
    "    type_skieur = input(\"Quel type de skieur êtes-vous?\")\n",
    "\n",
    "if type_skieur == \"débutant\":\n",
    "    with open('debutant.json') as fic:\n",
    "        graphe = json.load(fic)\n",
    "elif type_skieur == \"experimente\":\n",
    "    with open('experimente.json') as fic:\n",
    "        graphe = json.load(fic)\n",
    "print(graphe)\n",
    "\n",
    "depart = input(\"entrer le sommet de départ\")\n",
    "arrivee = input(\"entrer le sommet d'arrivée\")\n"
   ]
  }
 ],
 "metadata": {
  "kernelspec": {
   "display_name": "Python 3.9.7 ('l1-python')",
   "language": "python",
   "name": "python3"
  },
  "language_info": {
   "codemirror_mode": {
    "name": "ipython",
    "version": 3
   },
   "file_extension": ".py",
   "mimetype": "text/x-python",
   "name": "python",
   "nbconvert_exporter": "python",
   "pygments_lexer": "ipython3",
   "version": "3.9.7"
  },
  "orig_nbformat": 4,
  "vscode": {
   "interpreter": {
    "hash": "530acc480c6cf79cacfe3b795deb12112f40cf157cab9e2841c7338651ce5f02"
   }
  }
 },
 "nbformat": 4,
 "nbformat_minor": 2
}
