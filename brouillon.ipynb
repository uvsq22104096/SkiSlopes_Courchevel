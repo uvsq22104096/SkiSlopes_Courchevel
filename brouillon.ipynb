{
 "cells": [
  {
   "cell_type": "code",
   "execution_count": 1,
   "metadata": {},
   "outputs": [],
   "source": [
    "# Importation des librairies\n",
    "import json"
   ]
  },
  {
   "cell_type": "code",
   "execution_count": 10,
   "metadata": {},
   "outputs": [],
   "source": [
    "#Le skieur entre son niveau \n",
    "niveaux = [\"débutant\",\"expérimenté\"]\n",
    "type_skieur = input(\"Quel type de skieur êtes-vous?\")\n",
    "while type_skieur not in niveaux:\n",
    "    print(\"ERREUR: êtes vous débutant ou expérimenté?\")\n",
    "    type_skieur = input(\"Quel type de skieur êtes-vous?\")\n",
    "\n",
    "if type_skieur == \"débutant\":\n",
    "    with open('debutant.json') as fic:\n",
    "        graphe = json.load(fic)\n",
    "elif type_skieur == \"experimente\":\n",
    "    with open('experimente.json') as fic:\n",
    "        graphe = json.load(fic)\n",
    "\n",
    "#depart = input(\"entrer le sommet de départ\")\n",
    "#arrivee = input(\"entrer le sommet d'arrivée\")\n"
   ]
  },
  {
   "cell_type": "code",
   "execution_count": 31,
   "metadata": {},
   "outputs": [],
   "source": [
    "import math\n",
    "def heures_en_minutes(heures):\n",
    "    minutes = math.ceil(heures * 60) \n",
    "    #ceil permet  retourne le plus petit entier supérieur \n",
    "    #ou égal à la valeur donnée en argument. \n",
    "    \n",
    "    return minutes"
   ]
  },
  {
   "cell_type": "code",
   "execution_count": 3,
   "metadata": {},
   "outputs": [],
   "source": [
    "dico = {   \"Chanrossa\":{\"Creux\":[{\"Piste\":\"Piste Chanrossa\", \"duree\": 0.13}, {\"Piste\":\"Piste Jean Pachod\", \"duree\":0.18}], \"Roc Merlet\": [{\"Piste\":\"Piste Roc Merlet\", \"duree\":0.12}]},\n",
    "    \"Creux\":   {\"Chanrossa\": [{\"Piste\":\"Télésiège Chanrossa\", \"duree\":0.097}], \"Prameruel\": [{\"Piste\":\"Piste Creux\", \"duree\":0.21}], \"Vizelle\": [{\"Piste\":\"Télésiège Marmottes\", \"duree\":0.13}]},\n",
    "    \"Roc Merlet\":{\"Chanrossa\":[{\"Piste\":\"Télésiège Roc Merlet\",\"duree\": 0.13}], \"Roc Mugnier\": [{\"Piste\":\"Piste Plan Mugnier\", \"duree\":0.073}, {\"Piste\":\"Piste Pyramide\",\"duree\": 0.04} ,  {\"Piste\":\"Piste Mont russes\", \"duree\":0.08}]},\n",
    "    \"Roc Mugnier\": {\"Roc Merlet\": [{\"Piste\":\"Téléski Pyramide\", \"duree\":0.12}], \"Prameruel\":[{\"Piste\":\"Piste Roc Mugnier\", \"duree\":0.1}], \"Bosses\": [{\"Piste\":\"Piste grandes bosses\", \"duree\":0.1}]},\n",
    "    \"Pramuel\": {\"Roc Mugnier\": [{\"Piste\":\"Télésiège Roc Mugnier\", \"duree\":0.09}],\"Aiguille\":[{\"Piste\":\"Télésiège Aiguille du fruit\", \"duree\":1}], \"Gravelles\": [{\"Piste\":\"Télésiège Gravelles\", \"duree\":0.08}]},\n",
    "    \"Gravelles\": {\"Suisses\": [{\"Piste\":\"Piste altiport\", \"duree\":0.073}]},\n",
    "    \"Suisses\": {\"Vizelle\":  [{\"Piste\":\"Télésiège Suisses\", \"duree\":0.09}]},\n",
    "    \"Biollay\": {\"Suisses\": [{\"Piste\":\"Piste Super pralong\", \"duree\":0.02}], \"Pralong\": [{\"Piste\": \"Piste Pralong\", \"duree\":0.06}, {\"Piste\":\"Piste Biollay\", \"duree\":0.07 }],\"Verdons\": [{\"Piste\":\"Piste Biollay verdons\", \"duree\":0.04}], \"Lac\": [{\"Piste\":\"Piste Marquetty\",\"duree\": 0.07}]},\n",
    "    \"Pralong\": {\"Biollay\": [{\"Piste\":\"Télésiège Pralong\", \"duree\":0.104}]},\n",
    "    \"Saulire\": {\"Lac Creux\": [{\"Piste\":\"Piste Lac Creux\", \"duree\":0.09}], \"Creux\": [{\"Piste\":\"Piste Creux\", \"duree\":0.21}]},\n",
    "    \"Verdons\": {\"Vizelle\": [{\"Piste\":\"Télécabine Vizelle\", \"duree\": 0.09}],\"Saulire\": [{\"Piste\":\"Téléphérique Saulire\", \"duree\":0.05}] },\n",
    "    \"Vizelle\": {\"Verdons\":[{\"Piste\":\"Piste M\",\"duree\":0.17}], \"Rocher\":[{\"Piste\":\"Piste Combe Saulire\", \"duree\":0.21}, {\"Piste\":\"Piste Combe Pylones\",\"duree\": 0.12}], \"Lac Creux\":[{\"Piste\":\"Piste Marmotte\", \"duree\":0.15}], \"Suisses\":[{\"Piste\":\"Piste Suisses\", \"duree\":0.14}], \"Aiguille\":[{\"Piste\":\"Piste Turcs\", \"duree\":0.14}]},\n",
    "    \"Signal\":  {\"Chapelet\":[{\"Piste\":\"Piste Chapelets\",\"duree\":0.13}, {\"Piste\":\"Piste rochers\", \"duree\":0.2}], \"Bosses\":[{\"Piste\":\"Piste grande bosse\", \"duree\":0.1}]},\n",
    "    \"Chapelet\":{\"Stade\": [{\"Piste\":\"Piste Praline\", \"duree\":0.105}], \"Signal\": [{\"Piste\":\"Télésiège Chapelets\",\"duree\":0.11}]},\n",
    "    \"Bel air\": {\"La Grande Combe\":[{\"Piste\":\"Piste Bleue\", \"duree\":0.05}],\"Chapelet\": [{\"Piste\":\"Piste bel air\",\"duree\": 0.1}, {\"Piste\":\"Piste rochers\",\"duree\": 0.2}], \"Stade\": [{\"Piste\":\"Piste Ariondaz\", \"duree\":0.06}]},\n",
    "    \"Bosses\": {\"La Grande Combe\":[{\"Piste\":\"Piste Indiens\", \"duree\":0.07}],\"Signal\": [{\"Piste\":\"Télésiège Signal\", \"duree\":0.13}], \"Prameruel\": [{\"Piste\":\"Téléski Gravelles\",\"duree\": 0.06}], \"Chapelet\" : [{\"Piste\":\"Piste Praline\", \"duree\":0.105}]},\n",
    "    \"Creux noirs\": {\"Lac Creux\": [{\"Piste\":\"Roches grises\", \"duree\":0.03}]},\n",
    "    \"Lac Creux\": {\"Creux noirs\": [{\"Piste\":\"Télésiège Creux noirs\", \"duree\":0.104}], \"Gravelles\": [{\"Piste\":\"Piste Lac Creux\", \"duree\":0.09}]},\n",
    "    \"Chenus\": {\"Grangette\": [{\"Piste\":\"Piste Anémones\", \"duree\":0.11}], \"Lac\":[{\"Piste\":\"Piste Chenus\", \"duree\":0.22}],\"Praz-juget\":[{\"Piste\":\"Piste Lanches\", \"duree\":0.09}]},\n",
    "    \"Loze\": {\"Crêtes\": [{\"Piste\":\"Piste Crêtes\",\"duree\":0.03}], \"Grangette\": [{\"Piste\":\"Piste Loze\", \"duree\":0.15}], \"Tovets\":[{\"Piste\":\"Piste Dou du midi\", \"duree\":0.27}], \"Praz\":[{\"Piste\":\"Piste petit dou\", \"duree\":0.09}]},\n",
    "    \"Crêtes\": {\"Chenus\":[{\"Piste\":\"Télésiège Chenus\", \"duree\":0.06}], \"Praz-juget\":[{\"Piste\":\"Piste arolles\",\"duree\": 0.06}], \"Tovets\":[{\"Piste\":\"Piste Dou du midi\", \"duree\":0.27}], \"Forêt\":[{\"Piste\":\"Piste Jean Blanc puis piste Amoureux\", \"duree\":0.27}]},\n",
    "    \"Bouc blanc\": {\"Murger\":[{\"Piste\":\"Piste Bouc blanc\", \"duree\":0.15}], \"Troïka\":[{\"Piste\":\"Piste Folyères\", \"duree\": 0.09},{\"Piste\":\"Piste Plan fontaine\", \"duree\": 0.09}], \"Chenus\":[{\"Piste\":\"Téléski Praz Juget\",\"duree\":1.7}]},\n",
    "    \"Praz-Juget\": {\"Col de la Loze\":[{\"Piste\":\"Téléski Dou des Lanches\", \"duree\":0.22}]},\n",
    "    \"Murger\": {\"Loz\":[{\"Piste\":\"Téléski Bouc blanc\", \"duree\":1.9 }],\"Tania\": [{\"Piste\":\"Piste Moreta blanche\",\"duree\":1}]},\n",
    "    \"Tania\":{\"Murger\":[{\"Piste\":\"Téléski Gros Murger\", \"duree\":1.9}], \"Bouc blanc\":[{\"Piste\":\"Télécabine la Tania\",\"duree\": 0.07}]},\n",
    "    \"Forêt\": {\"Saint Bon\":[{\"Piste\":\"Piste Saint Bon\", \"duree\":0.12}],\"Crêtes\": [{\"Piste\":\"Télécabine Forêt\",\"duree\": 0.08}], \"Praz\":[{\"Piste\":\"Télécabine Paz\", \"duree\":0.08}]},\n",
    "    \"Plantrey\": {\"Forêt\": [{\"Piste\":\"Piste Brigues puis piste Amoureux\", \"duree\":0.17}], \"Epicea\": [{\"Piste\":\"Téléski Epicea\",\"duree\": 1}]},\n",
    "    \"Epicea\":{\"Praz\": [{\"Piste\":\"Piste petit dou\", \"duree\":0.09}], \"Plantrey\":[{\"Piste\":\"Piste Plantrey\", \"duree\":0.03}]},\n",
    "    \"Grangette\":{\"Alpin\":[{\"Piste\":\"Téléski Bellecote\", \"duree\":0.08}],\"Plantrey\":[{\"Piste\":\"Piste Grangette\", \"duree\":0.03}], \"Tovets\":[{\"Piste\":\"Piste Tovets\",\"duree\":0.02}], \"Roys\":[{\"Piste\":\"Piste Provères\", \"duree\":0.06}]},\n",
    "    \"Roys\":{\"Grangette\":[{\"Piste\":\"Télécabine Grangettes\", \"duree\":0.04}]},\n",
    "    \"Praz\":{\"Plantrey\": [{\"Piste\":\"Piste Jardin\", \"duree\":0.3}]},\n",
    "    \"Tovets\": {\"Grangette\":[{\"Piste\":\"Télésiège Tovets\", \"duree\":0.04}]},\n",
    "    \"Col de la Loze\":{\"Praz-Juget\":[{\"Piste\":\"Piste Dou des Lanches\",\"duree\":0.22}], \"Chenus\":[{\"Piste\":\"Piste Col de la Loze\", \"duree\":0.04}]},\n",
    "    \"Aiguille\":{\"Gravelles\":[{\"Piste\":\"Piste Suisses\", \"duree\":0.14}], \"Gravelle\":[{\"Piste\":\"Piste Park city\", \"duree\":0.05}]},\n",
    "    \"Lac\":{\"Chenus\":[{\"Piste\":\"Télésiège Coqs\", \"duree\":0.11}], \"Biollay\":[{\"Piste\":\"Téléski Biollay\",\"duree\": 0.13}], \"Rocher\":[{\"Piste\":\"Téléski Rocher de l'Ombre\",\"duree\":1.7},{\"Piste\":\"Téléski Sources\", \"duree\":0.15}]},\n",
    "    \"Rocher\":{\"Lac\":[{\"Piste\":\"Piste Rochers de l'ombre\",\"duree\":1.8}]},\n",
    "    \"La Grande Combe\":{\"Bosses\": [{\"Piste\":\"Télésiège 3 Vallées\", \"duree\":0.14}, {\"Piste\":\"Téléski Marquis\", \"duree\": 0.2}], \"Bel Air\":[{\"Piste\":\"Télécabine Ariondaz\", \"duree\":0.08}], \"Stade\":[{\"Piste\":\"Téléski Belvédère\",\"duree\":0.13}]},\n",
    "    \"Alpin\":{\"Grangette\":[{\"Piste\":\"Piste Bellecote\", \"duree\":0.05}], \"Pralong\":[{\"Piste\":\"Jardin Alpin\", \"duree\": 0.03}]}\n",
    " }\n",
    "\n",
    " "
   ]
  },
  {
   "cell_type": "code",
   "execution_count": 37,
   "metadata": {},
   "outputs": [
    {
     "name": "stdout",
     "output_type": "stream",
     "text": [
      "Graph with 46 nodes and 69 edges\n"
     ]
    }
   ],
   "source": [
    "import networkx as nx\n",
    "G = nx.Graph()\n",
    "\n",
    "for node, edges in dico.items():\n",
    "    G.add_node(node)\n",
    "    for neighbor, properties in edges.items():\n",
    "        for piste in properties:\n",
    "            nom_piste = piste[\"Piste\"]\n",
    "            longueur_piste = heures_en_minutes(piste[\"duree\"])\n",
    "            G.add_edge(node, neighbor , nom=nom_piste,longueur=longueur_piste)\n",
    "print(G)"
   ]
  },
  {
   "cell_type": "code",
   "execution_count": 5,
   "metadata": {},
   "outputs": [
    {
     "ename": "",
     "evalue": "",
     "output_type": "error",
     "traceback": [
      "\u001b[1;31mCanceled future for execute_request message before replies were done"
     ]
    },
    {
     "ename": "",
     "evalue": "",
     "output_type": "error",
     "traceback": [
      "The Kernel crashed while executing code in the the current cell or a previous cell. Please review the code in the cell(s) to identify a possible cause of the failure. Click <a href='https://aka.ms/vscodeJupyterKernelCrash'>here</a> for more info. View Jupyter <a href='command:jupyter.viewOutput'>log</a> for further details."
     ]
    }
   ],
   "source": [
    "#import matplotlib as plt\n",
    "nx.draw(G, with_labels=True, node_size=1000, node_color='lightblue', font_size=16)\n",
    "\n",
    "# Affichage du graphe\n",
    "#plt.show()"
   ]
  },
  {
   "cell_type": "code",
   "execution_count": 38,
   "metadata": {},
   "outputs": [
    {
     "name": "stdout",
     "output_type": "stream",
     "text": [
      "(25, [('Télésiège Roc Mugnier', 6), ('Télésiège Gravelles', 5), ('Piste altiport', 5), ('Piste Suisses', 9)])\n"
     ]
    }
   ],
   "source": [
    "import networkx as nx\n",
    "import heapq\n",
    "def dijkstra(graph, start, end):\n",
    "    # Initialisation de la distance de tous les sommets à l'infini\n",
    "    distances = {vertex: float('infinity') for vertex in graph}\n",
    "    # La distance de départ à elle-même est de 0\n",
    "    distances[start] = 0\n",
    "    # Initialisation de la file de priorité\n",
    "    pq = [(0, start)]\n",
    "    # Initialisation du dictionnaire des pistes empruntées pour atteindre chaque sommet\n",
    "    path = {start: []}\n",
    "    while len(pq) > 0:\n",
    "        # On récupère le sommet avec la plus petite distance\n",
    "        (dist, current_vertex) = heapq.heappop(pq)\n",
    "        # Si on a atteint le sommet de destination, on retourne la distance et le chemin\n",
    "        if current_vertex == end:\n",
    "            return (distances[current_vertex], path[current_vertex])\n",
    "        # Sinon, on explore les sommets adjacents\n",
    "        for neighbor, edge in graph[current_vertex].items():\n",
    "            cost = edge['longueur']\n",
    "            distance = distances[current_vertex] + cost\n",
    "            # Si on a trouvé un chemin plus court, on met à jour la distance et le chemin\n",
    "            if distance < distances[neighbor]:\n",
    "                distances[neighbor] = distance\n",
    "                path[neighbor] = path[current_vertex] + [(edge['nom'], edge['longueur'])]\n",
    "                heapq.heappush(pq, (distance, neighbor))\n",
    "    # Si on n'a pas trouvé de chemin, on retourne None\n",
    "    return None\n",
    "way = dijkstra(G, \"Roc Mugnier\", \"Vizelle\")\n",
    "print(way)"
   ]
  },
  {
   "cell_type": "code",
   "execution_count": 39,
   "metadata": {},
   "outputs": [
    {
     "name": "stdout",
     "output_type": "stream",
     "text": [
      "prendre Télésiège Roc Mugnier pendant environ 6 min\n",
      "prendre Télésiège Gravelles pendant environ 5 min\n",
      "prendre Piste altiport pendant environ 5 min\n",
      "prendre Piste Suisses pendant environ 9 min\n",
      "Le trajet devrait vous prendre environ 25 min\n"
     ]
    }
   ],
   "source": [
    "\n",
    "def affichage_chemin(path):\n",
    "    []\n",
    "    for piste in path[1]:\n",
    "        print(\"prendre\", piste[0], \"pendant environ\", piste[1],\"min\")\n",
    "    print(f'Le trajet devrait vous prendre environ {path[0]} min')\n",
    "affichage_chemin(way)\n",
    "\n",
    "    "
   ]
  }
 ],
 "metadata": {
  "kernelspec": {
   "display_name": "Python 3.9.7 ('l1-python')",
   "language": "python",
   "name": "python3"
  },
  "language_info": {
   "codemirror_mode": {
    "name": "ipython",
    "version": 3
   },
   "file_extension": ".py",
   "mimetype": "text/x-python",
   "name": "python",
   "nbconvert_exporter": "python",
   "pygments_lexer": "ipython3",
   "version": "3.9.7"
  },
  "orig_nbformat": 4,
  "vscode": {
   "interpreter": {
    "hash": "530acc480c6cf79cacfe3b795deb12112f40cf157cab9e2841c7338651ce5f02"
   }
  }
 },
 "nbformat": 4,
 "nbformat_minor": 2
}
